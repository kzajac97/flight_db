{
 "cells": [
  {
   "cell_type": "code",
   "execution_count": 21,
   "metadata": {},
   "outputs": [],
   "source": [
    "import os\n",
    "\n",
    "import numpy as np\n",
    "import pandas as pd"
   ]
  },
  {
   "cell_type": "code",
   "execution_count": 22,
   "metadata": {},
   "outputs": [],
   "source": [
    "flights_df = pd.read_excel(r\"../data/Flights.xlsx\", index_col=\"flight_id\")\n",
    "routes_df = pd.read_excel(r\"../data/Routes.xlsx\", index_col=\"route_id\")\n",
    "airports_df = pd.read_excel(r\"../data/Airports.xlsx\", index_col=\"airport_id\")"
   ]
  },
  {
   "cell_type": "code",
   "execution_count": 31,
   "metadata": {},
   "outputs": [],
   "source": [
    "flight_type = []\n",
    "for index in range(1, flights_df.index.size + 1):\n",
    "    route = routes_df.loc[flights_df[\"route_id\"].loc[index]]\n",
    "\n",
    "    departure = airports_df.loc[route[\"departure_airport_id\"]]\n",
    "    arrival = airports_df.loc[route[\"arrival_airport_id\"]]\n",
    "    \n",
    "    if departure[\"geographic_location\"] == \"North America\" and arrival[\"geographic_location\"] == \"North America\":\n",
    "        flight_type.append(\"Internal North America\")\n",
    "        \n",
    "    if departure[\"geographic_location\"] == \"Europe\" and arrival[\"geographic_location\"] == \"Europe\":\n",
    "        flight_type.append(\"Internal Europe\")\n",
    "    \n",
    "    if departure[\"geographic_location\"] != arrival[\"geographic_location\"]:\n",
    "        flight_type.append(\"Intercontinental\")"
   ]
  },
  {
   "cell_type": "code",
   "execution_count": 32,
   "metadata": {},
   "outputs": [],
   "source": [
    "flights_df[\"flight_type\"] = flight_type"
   ]
  },
  {
   "cell_type": "code",
   "execution_count": 33,
   "metadata": {},
   "outputs": [
    {
     "data": {
      "text/plain": [
       "Internal Europe           4505\n",
       "Intercontinental          4413\n",
       "Internal North America    1082\n",
       "Name: flight_type, dtype: int64"
      ]
     },
     "execution_count": 33,
     "metadata": {},
     "output_type": "execute_result"
    }
   ],
   "source": [
    "flights_df[\"flight_type\"].value_counts()"
   ]
  },
  {
   "cell_type": "code",
   "execution_count": 36,
   "metadata": {},
   "outputs": [
    {
     "data": {
      "text/html": [
       "<div>\n",
       "<style scoped>\n",
       "    .dataframe tbody tr th:only-of-type {\n",
       "        vertical-align: middle;\n",
       "    }\n",
       "\n",
       "    .dataframe tbody tr th {\n",
       "        vertical-align: top;\n",
       "    }\n",
       "\n",
       "    .dataframe thead th {\n",
       "        text-align: right;\n",
       "    }\n",
       "</style>\n",
       "<table border=\"1\" class=\"dataframe\">\n",
       "  <thead>\n",
       "    <tr style=\"text-align: right;\">\n",
       "      <th></th>\n",
       "      <th>airline_id</th>\n",
       "      <th>route_id</th>\n",
       "      <th>flight_code</th>\n",
       "      <th>duration</th>\n",
       "      <th>passengers</th>\n",
       "      <th>flight_type</th>\n",
       "    </tr>\n",
       "    <tr>\n",
       "      <th>flight_id</th>\n",
       "      <th></th>\n",
       "      <th></th>\n",
       "      <th></th>\n",
       "      <th></th>\n",
       "      <th></th>\n",
       "      <th></th>\n",
       "    </tr>\n",
       "  </thead>\n",
       "  <tbody>\n",
       "    <tr>\n",
       "      <th>1</th>\n",
       "      <td>1</td>\n",
       "      <td>1</td>\n",
       "      <td>RYR001SFOGDN</td>\n",
       "      <td>02:20:00</td>\n",
       "      <td>120</td>\n",
       "      <td>Intercontinental</td>\n",
       "    </tr>\n",
       "    <tr>\n",
       "      <th>2</th>\n",
       "      <td>8</td>\n",
       "      <td>2</td>\n",
       "      <td>DAL001YULKOB</td>\n",
       "      <td>06:40:00</td>\n",
       "      <td>150</td>\n",
       "      <td>Intercontinental</td>\n",
       "    </tr>\n",
       "    <tr>\n",
       "      <th>3</th>\n",
       "      <td>4</td>\n",
       "      <td>3</td>\n",
       "      <td>SEU001TXLMIL</td>\n",
       "      <td>11:40:00</td>\n",
       "      <td>62</td>\n",
       "      <td>Internal Europe</td>\n",
       "    </tr>\n",
       "    <tr>\n",
       "      <th>4</th>\n",
       "      <td>1</td>\n",
       "      <td>4</td>\n",
       "      <td>RYR001MCIATL</td>\n",
       "      <td>15:20:00</td>\n",
       "      <td>120</td>\n",
       "      <td>Internal North America</td>\n",
       "    </tr>\n",
       "    <tr>\n",
       "      <th>5</th>\n",
       "      <td>4</td>\n",
       "      <td>5</td>\n",
       "      <td>SEU001YWGCFU</td>\n",
       "      <td>02:40:00</td>\n",
       "      <td>69</td>\n",
       "      <td>Intercontinental</td>\n",
       "    </tr>\n",
       "  </tbody>\n",
       "</table>\n",
       "</div>"
      ],
      "text/plain": [
       "           airline_id  route_id   flight_code  duration  passengers  \\\n",
       "flight_id                                                             \n",
       "1                   1         1  RYR001SFOGDN  02:20:00         120   \n",
       "2                   8         2  DAL001YULKOB  06:40:00         150   \n",
       "3                   4         3  SEU001TXLMIL  11:40:00          62   \n",
       "4                   1         4  RYR001MCIATL  15:20:00         120   \n",
       "5                   4         5  SEU001YWGCFU  02:40:00          69   \n",
       "\n",
       "                      flight_type  \n",
       "flight_id                          \n",
       "1                Intercontinental  \n",
       "2                Intercontinental  \n",
       "3                 Internal Europe  \n",
       "4          Internal North America  \n",
       "5                Intercontinental  "
      ]
     },
     "execution_count": 36,
     "metadata": {},
     "output_type": "execute_result"
    }
   ],
   "source": [
    "flights_df.head()"
   ]
  },
  {
   "cell_type": "code",
   "execution_count": 37,
   "metadata": {},
   "outputs": [],
   "source": [
    "flights_df.to_excel(\"../data/Flights.xlsx\")"
   ]
  },
  {
   "cell_type": "code",
   "execution_count": null,
   "metadata": {},
   "outputs": [],
   "source": []
  }
 ],
 "metadata": {
  "kernelspec": {
   "display_name": "Python 3",
   "language": "python",
   "name": "python3"
  },
  "language_info": {
   "codemirror_mode": {
    "name": "ipython",
    "version": 3
   },
   "file_extension": ".py",
   "mimetype": "text/x-python",
   "name": "python",
   "nbconvert_exporter": "python",
   "pygments_lexer": "ipython3",
   "version": "3.7.4"
  }
 },
 "nbformat": 4,
 "nbformat_minor": 4
}
