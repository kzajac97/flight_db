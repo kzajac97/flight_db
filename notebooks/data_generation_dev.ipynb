{
 "cells": [
  {
   "cell_type": "code",
   "execution_count": 1,
   "metadata": {},
   "outputs": [],
   "source": [
    "import sqlite3\n",
    "import numpy as np\n",
    "import pandas as pd\n",
    "from datetime import datetime as dt, timedelta"
   ]
  },
  {
   "cell_type": "code",
   "execution_count": 2,
   "metadata": {},
   "outputs": [],
   "source": [
    "airlines_df = pd.read_excel(\"../data/Airlines.xlsx\", index_col=\"AirlineId\")\n",
    "airports_df = pd.read_excel(\"../data/Airports.xlsx\", index_col=\"AirportId\")"
   ]
  },
  {
   "cell_type": "code",
   "execution_count": 3,
   "metadata": {},
   "outputs": [
    {
     "data": {
      "text/html": [
       "<div>\n",
       "<style scoped>\n",
       "    .dataframe tbody tr th:only-of-type {\n",
       "        vertical-align: middle;\n",
       "    }\n",
       "\n",
       "    .dataframe tbody tr th {\n",
       "        vertical-align: top;\n",
       "    }\n",
       "\n",
       "    .dataframe thead th {\n",
       "        text-align: right;\n",
       "    }\n",
       "</style>\n",
       "<table border=\"1\" class=\"dataframe\">\n",
       "  <thead>\n",
       "    <tr style=\"text-align: right;\">\n",
       "      <th></th>\n",
       "      <th>AirportCode</th>\n",
       "      <th>FullName</th>\n",
       "      <th>OriginCountry</th>\n",
       "      <th>OriginCity</th>\n",
       "    </tr>\n",
       "    <tr>\n",
       "      <th>AirportId</th>\n",
       "      <th></th>\n",
       "      <th></th>\n",
       "      <th></th>\n",
       "      <th></th>\n",
       "    </tr>\n",
       "  </thead>\n",
       "  <tbody>\n",
       "    <tr>\n",
       "      <th>1</th>\n",
       "      <td>PDL</td>\n",
       "      <td>Ponta Delgada Joao Paulo II</td>\n",
       "      <td>Portugal</td>\n",
       "      <td>Ponta Delgada</td>\n",
       "    </tr>\n",
       "    <tr>\n",
       "      <th>2</th>\n",
       "      <td>FAO</td>\n",
       "      <td>Faro Airport</td>\n",
       "      <td>Portugal</td>\n",
       "      <td>Faro</td>\n",
       "    </tr>\n",
       "    <tr>\n",
       "      <th>3</th>\n",
       "      <td>LIS</td>\n",
       "      <td>Portela</td>\n",
       "      <td>Portugal</td>\n",
       "      <td>Lisbon</td>\n",
       "    </tr>\n",
       "    <tr>\n",
       "      <th>4</th>\n",
       "      <td>OPO</td>\n",
       "      <td>Franciso De Sa Carneiro</td>\n",
       "      <td>Portugal</td>\n",
       "      <td>Porto</td>\n",
       "    </tr>\n",
       "    <tr>\n",
       "      <th>5</th>\n",
       "      <td>SJZ</td>\n",
       "      <td>Sao Jorge Airport</td>\n",
       "      <td>Portugal</td>\n",
       "      <td>Madeira</td>\n",
       "    </tr>\n",
       "    <tr>\n",
       "      <th>...</th>\n",
       "      <td>...</td>\n",
       "      <td>...</td>\n",
       "      <td>...</td>\n",
       "      <td>...</td>\n",
       "    </tr>\n",
       "    <tr>\n",
       "      <th>97</th>\n",
       "      <td>BOS</td>\n",
       "      <td>General Edward Lawrence Logan International Ai...</td>\n",
       "      <td>United States</td>\n",
       "      <td>Boston</td>\n",
       "    </tr>\n",
       "    <tr>\n",
       "      <th>98</th>\n",
       "      <td>DCA</td>\n",
       "      <td>Washington Dulles International Airport</td>\n",
       "      <td>United States</td>\n",
       "      <td>Washington</td>\n",
       "    </tr>\n",
       "    <tr>\n",
       "      <th>99</th>\n",
       "      <td>PHL</td>\n",
       "      <td>Philadelphia International Airport</td>\n",
       "      <td>United States</td>\n",
       "      <td>Philadelphia</td>\n",
       "    </tr>\n",
       "    <tr>\n",
       "      <th>100</th>\n",
       "      <td>MSP</td>\n",
       "      <td>Minneapolis–Saint Paul International Airport</td>\n",
       "      <td>United States</td>\n",
       "      <td>Minneapolis</td>\n",
       "    </tr>\n",
       "    <tr>\n",
       "      <th>101</th>\n",
       "      <td>MEX</td>\n",
       "      <td>Aeropuerto Internacional Benito Juárez</td>\n",
       "      <td>Mexico</td>\n",
       "      <td>Mexico City</td>\n",
       "    </tr>\n",
       "  </tbody>\n",
       "</table>\n",
       "<p>101 rows × 4 columns</p>\n",
       "</div>"
      ],
      "text/plain": [
       "          AirportCode                                           FullName  \\\n",
       "AirportId                                                                  \n",
       "1                 PDL                        Ponta Delgada Joao Paulo II   \n",
       "2                 FAO                                       Faro Airport   \n",
       "3                 LIS                                            Portela   \n",
       "4                 OPO                            Franciso De Sa Carneiro   \n",
       "5                 SJZ                                  Sao Jorge Airport   \n",
       "...               ...                                                ...   \n",
       "97                BOS  General Edward Lawrence Logan International Ai...   \n",
       "98                DCA            Washington Dulles International Airport   \n",
       "99                PHL                 Philadelphia International Airport   \n",
       "100               MSP       Minneapolis–Saint Paul International Airport   \n",
       "101               MEX             Aeropuerto Internacional Benito Juárez   \n",
       "\n",
       "           OriginCountry     OriginCity  \n",
       "AirportId                                \n",
       "1               Portugal  Ponta Delgada  \n",
       "2               Portugal           Faro  \n",
       "3               Portugal         Lisbon  \n",
       "4               Portugal          Porto  \n",
       "5               Portugal        Madeira  \n",
       "...                  ...            ...  \n",
       "97         United States         Boston  \n",
       "98         United States     Washington  \n",
       "99         United States   Philadelphia  \n",
       "100        United States    Minneapolis  \n",
       "101               Mexico    Mexico City  \n",
       "\n",
       "[101 rows x 4 columns]"
      ]
     },
     "execution_count": 3,
     "metadata": {},
     "output_type": "execute_result"
    }
   ],
   "source": [
    "airports_df"
   ]
  },
  {
   "cell_type": "code",
   "execution_count": 4,
   "metadata": {},
   "outputs": [],
   "source": [
    "INSERT_TEMPLATE = \"INSERT INTO {table_name} {columns_tuple}\\n\\tVALUES {values_tuple}\""
   ]
  },
  {
   "cell_type": "code",
   "execution_count": 5,
   "metadata": {},
   "outputs": [
    {
     "name": "stdout",
     "output_type": "stream",
     "text": [
      "INSERT INTO Airports (AirportCode, FullName, OriginCountry, OriginCity)\n",
      "\tVALUES (PDL, Ponta Delgada Joao Paulo II, Portugal, Ponta Delgada)\n"
     ]
    }
   ],
   "source": [
    "print(INSERT_TEMPLATE.format(table_name=\"Airports\", columns_tuple=tuple(airports_df.columns), values_tuple=tuple(airports_df.iloc[0].tolist())).replace(\"\\'\", \"\"))"
   ]
  },
  {
   "cell_type": "code",
   "execution_count": 6,
   "metadata": {},
   "outputs": [
    {
     "data": {
      "text/html": [
       "<div>\n",
       "<style scoped>\n",
       "    .dataframe tbody tr th:only-of-type {\n",
       "        vertical-align: middle;\n",
       "    }\n",
       "\n",
       "    .dataframe tbody tr th {\n",
       "        vertical-align: top;\n",
       "    }\n",
       "\n",
       "    .dataframe thead th {\n",
       "        text-align: right;\n",
       "    }\n",
       "</style>\n",
       "<table border=\"1\" class=\"dataframe\">\n",
       "  <thead>\n",
       "    <tr style=\"text-align: right;\">\n",
       "      <th></th>\n",
       "      <th>Name</th>\n",
       "      <th>AirlineCode</th>\n",
       "    </tr>\n",
       "    <tr>\n",
       "      <th>AirlineId</th>\n",
       "      <th></th>\n",
       "      <th></th>\n",
       "    </tr>\n",
       "  </thead>\n",
       "  <tbody>\n",
       "    <tr>\n",
       "      <th>1</th>\n",
       "      <td>Ryanair</td>\n",
       "      <td>RYR</td>\n",
       "    </tr>\n",
       "    <tr>\n",
       "      <th>2</th>\n",
       "      <td>Lufthansa Group</td>\n",
       "      <td>DLH</td>\n",
       "    </tr>\n",
       "    <tr>\n",
       "      <th>3</th>\n",
       "      <td>International Airlines Group</td>\n",
       "      <td>AAN</td>\n",
       "    </tr>\n",
       "    <tr>\n",
       "      <th>4</th>\n",
       "      <td>Air France-KLM</td>\n",
       "      <td>SEU</td>\n",
       "    </tr>\n",
       "    <tr>\n",
       "      <th>5</th>\n",
       "      <td>Easyjet</td>\n",
       "      <td>EZY</td>\n",
       "    </tr>\n",
       "    <tr>\n",
       "      <th>6</th>\n",
       "      <td>Wizz Air</td>\n",
       "      <td>WZZ</td>\n",
       "    </tr>\n",
       "    <tr>\n",
       "      <th>7</th>\n",
       "      <td>American Airlines</td>\n",
       "      <td>AAL</td>\n",
       "    </tr>\n",
       "    <tr>\n",
       "      <th>8</th>\n",
       "      <td>Delta Air Lines</td>\n",
       "      <td>DAL</td>\n",
       "    </tr>\n",
       "    <tr>\n",
       "      <th>9</th>\n",
       "      <td>Southwest Airlines</td>\n",
       "      <td>SWA</td>\n",
       "    </tr>\n",
       "    <tr>\n",
       "      <th>10</th>\n",
       "      <td>Air Canada</td>\n",
       "      <td>ROU</td>\n",
       "    </tr>\n",
       "    <tr>\n",
       "      <th>11</th>\n",
       "      <td>LOT Polish Airlines</td>\n",
       "      <td>LOT</td>\n",
       "    </tr>\n",
       "  </tbody>\n",
       "</table>\n",
       "</div>"
      ],
      "text/plain": [
       "                                   Name AirlineCode\n",
       "AirlineId                                          \n",
       "1                               Ryanair         RYR\n",
       "2                       Lufthansa Group         DLH\n",
       "3          International Airlines Group         AAN\n",
       "4                        Air France-KLM         SEU\n",
       "5                               Easyjet         EZY\n",
       "6                              Wizz Air         WZZ\n",
       "7                     American Airlines         AAL\n",
       "8                       Delta Air Lines         DAL\n",
       "9                    Southwest Airlines         SWA\n",
       "10                           Air Canada         ROU\n",
       "11                  LOT Polish Airlines         LOT"
      ]
     },
     "execution_count": 6,
     "metadata": {},
     "output_type": "execute_result"
    }
   ],
   "source": [
    "airlines_df"
   ]
  },
  {
   "cell_type": "code",
   "execution_count": 7,
   "metadata": {},
   "outputs": [],
   "source": [
    "with open(r\"../scripts/sql/populate_db.sql\", \"w\", encoding=\"utf8\") as f:\n",
    "    for index in airlines_df.index.tolist():\n",
    "        #print(INSERT_TEMPLATE.format(table_name=\"Airline\", columns_tuple=tuple(airlines_df.columns), values_tuple=tuple(airlines_df.iloc[index - 1].tolist())).replace(\"\\'\", \"\"))\n",
    "        f.write(INSERT_TEMPLATE.format(table_name=\"Airline\", columns_tuple=tuple(airlines_df.columns), values_tuple=tuple(airlines_df.iloc[index -1].tolist())).replace(\"\\'\", \"\"))\n",
    "        f.write(\"\\n\")\n",
    "        \n",
    "    for index in airports_df.index.tolist():\n",
    "        f.write(INSERT_TEMPLATE.format(table_name=\"Airport\", columns_tuple=tuple(airports_df.columns), values_tuple=tuple(airports_df.iloc[index - 1].tolist())).replace(\"\\'\", \"\"))\n",
    "        f.write(\"\\n\")"
   ]
  },
  {
   "cell_type": "code",
   "execution_count": 8,
   "metadata": {},
   "outputs": [],
   "source": [
    "def get_airline_info(name):\n",
    "    airline = airlines_df.loc[airlines_df[\"Name\"] == name].to_dict(orient=\"index\")\n",
    "    index = list(airline.keys())[0]\n",
    "    \n",
    "    return index, airline[index][\"AirlineCode\"]\n",
    "\n",
    "def get_airport_info(city):\n",
    "    airport = airports_df.loc[airports_df[\"OriginCity\"] == city].to_dict(orient=\"index\")\n",
    "    index = list(airport.keys())[0]\n",
    "    \n",
    "    return index, airport[index][\"AirportCode\"]"
   ]
  },
  {
   "cell_type": "code",
   "execution_count": 71,
   "metadata": {},
   "outputs": [],
   "source": [
    "def get_flight_info(departure, arrival, start, duration, airline, route_index):\n",
    "    airline_id, airline_code = get_airline_info(airline)\n",
    "    departure_id, departure_code = get_airport_info(departure)\n",
    "    arrival_id, arrival_code = get_airport_info(arrival)\n",
    "    \n",
    "    intercontinental = 0 if (arrival_id <= 68 & departure_id <= 68) or (arrival_id > 68 & departure_id > 68) else 1\n",
    "    if intercontinental == 1:\n",
    "        duration = dt.strptime(duration, \"%H:%M:%S\") + clock_to_timedetla(\"06:00:00\")\n",
    "    \n",
    "    return airline_id, route_index, airline_code + \"001\" + departure_code + arrival_code, str(duration)[-8:], np.random.randint(50, 250), intercontinental"
   ]
  },
  {
   "cell_type": "code",
   "execution_count": 72,
   "metadata": {},
   "outputs": [],
   "source": [
    "def clock_to_timedetla(time):\n",
    "    return timedelta(hours=int(time[0:2]), minutes=int(time[3:5]), seconds=int(time[6:8]))"
   ]
  },
  {
   "cell_type": "code",
   "execution_count": 73,
   "metadata": {},
   "outputs": [],
   "source": [
    "def get_route_info(departure, arrival, start, duration, airline):\n",
    "    airline_id, airline_code = get_airline_info(airline)\n",
    "    departure_id, departure_code = get_airport_info(departure)\n",
    "    arrival_id, arrival_code = get_airport_info(arrival)\n",
    "    \n",
    "    return departure_id, arrival_id, str(start), str(dt.strptime(start, \"%Y-%m-%d %H:%M:%S\") + clock_to_timedetla(duration))"
   ]
  },
  {
   "cell_type": "code",
   "execution_count": 74,
   "metadata": {},
   "outputs": [
    {
     "data": {
      "text/plain": [
       "(1, 1, 'RYR001CIAJFK', '08:20:00', 212, 1)"
      ]
     },
     "execution_count": 74,
     "metadata": {},
     "output_type": "execute_result"
    }
   ],
   "source": [
    "get_flight_info(\"Rome\", \"New York\", \"2020-12-01 10:00:00\", \"02:20:00\", \"Ryanair\", 1)"
   ]
  },
  {
   "cell_type": "code",
   "execution_count": 75,
   "metadata": {},
   "outputs": [
    {
     "data": {
      "text/plain": [
       "(18, 6, '2020-12-01 10:00:00', '2020-12-01 12:20:00')"
      ]
     },
     "execution_count": 75,
     "metadata": {},
     "output_type": "execute_result"
    }
   ],
   "source": [
    "get_route_info(\"Rome\", \"Madrid\", \"2020-12-01 10:00:00\", \"02:20:00\", \"Ryanair\")"
   ]
  },
  {
   "cell_type": "code",
   "execution_count": 76,
   "metadata": {},
   "outputs": [],
   "source": [
    "def random_date_offset():\n",
    "    # Date offset in range 00:00:00 to 40:00:00\n",
    "    # seconds are alwyas 00 and minutes have precision up to 10 min\n",
    "    return f\"0{np.random.randint(5)}:{np.random.randint(6)}0:00\"\n",
    "\n",
    "def random_flight_time():\n",
    "    # Random flight time, with max value of 9H and min 1H\n",
    "    return f\"0{np.random.randint(1, 10)}:{np.random.randint(6)}0:00\""
   ]
  },
  {
   "cell_type": "code",
   "execution_count": 157,
   "metadata": {},
   "outputs": [],
   "source": [
    "routes = []\n",
    "flights = []\n",
    "\n",
    "start_date = \"2020-01-01 8:00:00\"\n",
    "date = dt.strptime(start_date, \"%Y-%m-%d %H:%M:%S\")\n",
    "\n",
    "for index in range(1, 10_001):\n",
    "    departure_airport = airports_df[\"OriginCity\"].iloc[np.random.randint(len(airports_df[\"OriginCity\"].index))]\n",
    "    arrival_airport = airports_df[\"OriginCity\"].iloc[np.random.randint(len(airports_df[\"OriginCity\"].index))]\n",
    "    \n",
    "    if arrival_airport == departure_airport:\n",
    "        arrival_airport = airports_df[\"OriginCity\"].iloc[np.random.randint(len(airports_df[\"OriginCity\"].index))]\n",
    "    \n",
    "    if arrival_airport == departure_airport:\n",
    "        arrival_airport = airports_df[\"OriginCity\"].iloc[np.random.randint(len(airports_df[\"OriginCity\"].index))]\n",
    "        \n",
    "    if arrival_airport == departure_airport:\n",
    "        arrival_airport = airports_df[\"OriginCity\"].iloc[np.random.randint(len(airports_df[\"OriginCity\"].index))]\n",
    "    \n",
    "    date += clock_to_timedetla(random_date_offset())\n",
    "    flight_time = random_flight_time()\n",
    "    airline = airlines_df[\"Name\"].iloc[np.random.randint(airlines_df.index.size)]\n",
    "    \n",
    "    flights.append(get_flight_info(departure_airport, arrival_airport, str(date), flight_time, airline, index))\n",
    "    routes.append(get_route_info(departure_airport, arrival_airport, str(date), flight_time, airline))"
   ]
  },
  {
   "cell_type": "code",
   "execution_count": 158,
   "metadata": {},
   "outputs": [],
   "source": [
    "flights_df = pd.DataFrame.from_records(flights, columns=[\"AirlineId\", \"RouteId\", \"FlightCode\", \"Duration\", \"Passengers\", \"Intercontinental\"])"
   ]
  },
  {
   "cell_type": "code",
   "execution_count": 159,
   "metadata": {},
   "outputs": [],
   "source": [
    "routes_df = pd.DataFrame.from_records(routes, columns=[\"DepartureAirportId\", \"ArrivalAirportId\", \"DepartureDateTime\", \"ArrivalDateTime\"])"
   ]
  },
  {
   "cell_type": "code",
   "execution_count": 160,
   "metadata": {},
   "outputs": [
    {
     "data": {
      "text/plain": [
       "False    10000\n",
       "dtype: int64"
      ]
     },
     "execution_count": 160,
     "metadata": {},
     "output_type": "execute_result"
    }
   ],
   "source": [
    "(routes_df[\"DepartureAirportId\"]  == routes_df[\"ArrivalAirportId\"]).value_counts()"
   ]
  },
  {
   "cell_type": "code",
   "execution_count": 162,
   "metadata": {},
   "outputs": [
    {
     "data": {
      "text/plain": [
       "DLH001STNLED    4\n",
       "AAN001STNLPL    4\n",
       "AAN001DTWSTN    4\n",
       "ROU001RJKSTN    4\n",
       "SEU001ATLNCL    4\n",
       "               ..\n",
       "SEU001YWGLYS    1\n",
       "EZY001LPABNA    1\n",
       "WZZ001DTWSTN    1\n",
       "SWA001AALZRH    1\n",
       "LOT001STNPHL    1\n",
       "Name: FlightCode, Length: 9358, dtype: int64"
      ]
     },
     "execution_count": 162,
     "metadata": {},
     "output_type": "execute_result"
    }
   ],
   "source": [
    "flights_df[\"FlightCode\"].value_counts()"
   ]
  },
  {
   "cell_type": "code",
   "execution_count": 198,
   "metadata": {},
   "outputs": [],
   "source": [
    "copy_df = flights_df.copy(deep=True)"
   ]
  },
  {
   "cell_type": "code",
   "execution_count": 199,
   "metadata": {},
   "outputs": [
    {
     "data": {
      "text/plain": [
       "DLH001STNLED    4\n",
       "AAN001STNLPL    4\n",
       "AAN001DTWSTN    4\n",
       "ROU001RJKSTN    4\n",
       "SEU001ATLNCL    4\n",
       "               ..\n",
       "SEU001YWGLYS    1\n",
       "EZY001LPABNA    1\n",
       "WZZ001DTWSTN    1\n",
       "SWA001AALZRH    1\n",
       "LOT001STNPHL    1\n",
       "Name: FlightCode, Length: 9358, dtype: int64"
      ]
     },
     "execution_count": 199,
     "metadata": {},
     "output_type": "execute_result"
    }
   ],
   "source": [
    "copy_df[\"FlightCode\"].value_counts()"
   ]
  },
  {
   "cell_type": "code",
   "execution_count": 202,
   "metadata": {},
   "outputs": [
    {
     "name": "stderr",
     "output_type": "stream",
     "text": [
      "c:\\users\\krzysiek\\appdata\\local\\programs\\python\\python37\\lib\\site-packages\\pandas\\core\\indexing.py:670: SettingWithCopyWarning: \n",
      "A value is trying to be set on a copy of a slice from a DataFrame\n",
      "\n",
      "See the caveats in the documentation: https://pandas.pydata.org/pandas-docs/stable/user_guide/indexing.html#returning-a-view-versus-a-copy\n",
      "  iloc._setitem_with_indexer(indexer, value)\n"
     ]
    }
   ],
   "source": [
    "for code in copy_df[\"FlightCode\"].unique().tolist():\n",
    "    if copy_df.loc[copy_df[\"FlightCode\"] == code].index.size > 1:\n",
    "        slice_df = copy_df.loc[copy_df[\"FlightCode\"] == code]\n",
    "        counter = 1\n",
    "        for index in slice_df.index.tolist():\n",
    "            if counter > 1:\n",
    "                copy_df[\"FlightCode\"].iloc[index] = slice_df[\"FlightCode\"][index].replace(\"1\", str(counter))\n",
    "            counter += 1"
   ]
  },
  {
   "cell_type": "code",
   "execution_count": 205,
   "metadata": {},
   "outputs": [
    {
     "data": {
      "text/plain": [
       "LOT001TRNJFK    1\n",
       "SEU001STNAYT    1\n",
       "DAL001MSPOPO    1\n",
       "WZZ002LASCHI    1\n",
       "SEU001AGPPHX    1\n",
       "               ..\n",
       "LOT001SEASAN    1\n",
       "SEU001SKGAAL    1\n",
       "SWA001ATHDUS    1\n",
       "AAN001MIAYVR    1\n",
       "LOT001STNPHL    1\n",
       "Name: FlightCode, Length: 10000, dtype: int64"
      ]
     },
     "execution_count": 205,
     "metadata": {},
     "output_type": "execute_result"
    }
   ],
   "source": [
    "copy_df[\"FlightCode\"].value_counts(dropna=False)"
   ]
  },
  {
   "cell_type": "code",
   "execution_count": 210,
   "metadata": {},
   "outputs": [],
   "source": [
    "copy_df.to_excel(r\"../data/Flights.xlsx\")"
   ]
  },
  {
   "cell_type": "code",
   "execution_count": 209,
   "metadata": {},
   "outputs": [],
   "source": [
    "routes_df.to_excel(r\"../data/Routes.xlsx\")"
   ]
  },
  {
   "cell_type": "code",
   "execution_count": null,
   "metadata": {},
   "outputs": [],
   "source": []
  }
 ],
 "metadata": {
  "kernelspec": {
   "display_name": "Python 3",
   "language": "python",
   "name": "python3"
  },
  "language_info": {
   "codemirror_mode": {
    "name": "ipython",
    "version": 3
   },
   "file_extension": ".py",
   "mimetype": "text/x-python",
   "name": "python",
   "nbconvert_exporter": "python",
   "pygments_lexer": "ipython3",
   "version": "3.7.4"
  }
 },
 "nbformat": 4,
 "nbformat_minor": 4
}
