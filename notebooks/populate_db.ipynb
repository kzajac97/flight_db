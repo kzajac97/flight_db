{
 "cells": [
  {
   "cell_type": "code",
   "execution_count": 1,
   "metadata": {},
   "outputs": [],
   "source": [
    "import sqlite3\n",
    "import numpy as np\n",
    "import pandas as pd\n",
    "from datetime import datetime as dt, timedelta"
   ]
  },
  {
   "cell_type": "code",
   "execution_count": 3,
   "metadata": {},
   "outputs": [],
   "source": [
    "airlines_df = pd.read_excel(\"../data/Airlines.xlsx\", index_col=\"airline_id\")\n",
    "airports_df = pd.read_excel(\"../data/Airports.xlsx\", index_col=\"airport_id\")\n",
    "routes_df = pd.read_excel(\"../data/Routes.xlsx\", index_col=\"route_id\")\n",
    "flights_df = pd.read_excel(\"../data/Flights.xlsx\", index_col=\"flight_id\")"
   ]
  },
  {
   "cell_type": "code",
   "execution_count": 4,
   "metadata": {},
   "outputs": [],
   "source": [
    "INSERT_TEMPLATE = \"INSERT INTO {table_name} {columns_tuple} VALUES {values_tuple};\\n\"\n",
    "\n",
    "COLUMNS_INSERT_TEMPLATE = \"INSERT INTO {table_name} {columns_tuple}\"\n",
    "VALUE_INSERT_TEMPLATE = \"VALUES {values_tuple};\\n\""
   ]
  },
  {
   "cell_type": "code",
   "execution_count": 5,
   "metadata": {},
   "outputs": [],
   "source": [
    "def insert_into_sql_table_sqlite(data, table_name, index):\n",
    "    columns = (data.index.name, ) + tuple(data.columns)\n",
    "    values = (index, ) + tuple(data.iloc[index - 1].tolist())\n",
    "    \n",
    "    return INSERT_TEMPLATE.format(table_name=table_name, columns_tuple=columns, values_tuple=values).replace(\"\\'\", \"\\\"\")"
   ]
  },
  {
   "cell_type": "code",
   "execution_count": 6,
   "metadata": {},
   "outputs": [],
   "source": [
    "def insert_into_sql_table_postgre(data, table_name, index):\n",
    "    columns = (data.index.name, ) + tuple(data.columns)\n",
    "    columns = tuple([column.lower().replace(\"\\'\", \"\") for column in columns])\n",
    "    values = (index, ) + tuple(data.iloc[index - 1].tolist())\n",
    "    \n",
    "    return COLUMNS_INSERT_TEMPLATE.format(table_name=table_name.lower(), columns_tuple=columns).replace(\"\\'\", \"\") + \" \" + VALUE_INSERT_TEMPLATE.format(values_tuple=values)"
   ]
  },
  {
   "cell_type": "code",
   "execution_count": 7,
   "metadata": {},
   "outputs": [
    {
     "data": {
      "text/plain": [
       "\"INSERT INTO airline (airline_id, name, airline_code) VALUES (4, 'Air France-KLM', 'SEU');\\n\""
      ]
     },
     "execution_count": 7,
     "metadata": {},
     "output_type": "execute_result"
    }
   ],
   "source": [
    "insert_into_sql_table_postgre(airlines_df, \"Airline\", 4)"
   ]
  },
  {
   "cell_type": "code",
   "execution_count": 8,
   "metadata": {},
   "outputs": [],
   "source": [
    "with open(r\"../scripts/sql/populate_db.sql\", \"w\", encoding=\"utf8\") as f:\n",
    "    for index in airlines_df.index.tolist():\n",
    "        f.write(insert_into_sql_table_postgre(airlines_df, \"Airline\", index))\n",
    "    f.write(\"\\n\")\n",
    "        \n",
    "    for index in airports_df.index.tolist():\n",
    "        f.write(insert_into_sql_table_postgre(airports_df, \"Airport\", index))\n",
    "    f.write(\"\\n\")\n",
    "        \n",
    "    for index in routes_df.index.tolist():\n",
    "        f.write(insert_into_sql_table_postgre(routes_df, \"Route\", index))\n",
    "    f.write(\"\\n\")\n",
    "    \n",
    "    for index in flights_df.index.tolist():\n",
    "        f.write(insert_into_sql_table_postgre(flights_df, \"Flight\", index))\n",
    "    f.write(\"\\n\")"
   ]
  },
  {
   "cell_type": "code",
   "execution_count": null,
   "metadata": {},
   "outputs": [],
   "source": []
  }
 ],
 "metadata": {
  "kernelspec": {
   "display_name": "Python 3",
   "language": "python",
   "name": "python3"
  },
  "language_info": {
   "codemirror_mode": {
    "name": "ipython",
    "version": 3
   },
   "file_extension": ".py",
   "mimetype": "text/x-python",
   "name": "python",
   "nbconvert_exporter": "python",
   "pygments_lexer": "ipython3",
   "version": "3.7.3"
  }
 },
 "nbformat": 4,
 "nbformat_minor": 4
}
