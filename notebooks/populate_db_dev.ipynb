{
 "cells": [
  {
   "cell_type": "code",
   "execution_count": 62,
   "metadata": {},
   "outputs": [],
   "source": [
    "import sqlite3\n",
    "import numpy as np\n",
    "import pandas as pd\n",
    "from datetime import datetime as dt, timedelta"
   ]
  },
  {
   "cell_type": "code",
   "execution_count": 63,
   "metadata": {},
   "outputs": [],
   "source": [
    "airlines_df = pd.read_excel(\"../data/Airlines.xlsx\", index_col=\"AirlineId\")\n",
    "airports_df = pd.read_excel(\"../data/Airports.xlsx\", index_col=\"AirportId\")"
   ]
  },
  {
   "cell_type": "code",
   "execution_count": 64,
   "metadata": {},
   "outputs": [
    {
     "data": {
      "text/html": [
       "<div>\n",
       "<style scoped>\n",
       "    .dataframe tbody tr th:only-of-type {\n",
       "        vertical-align: middle;\n",
       "    }\n",
       "\n",
       "    .dataframe tbody tr th {\n",
       "        vertical-align: top;\n",
       "    }\n",
       "\n",
       "    .dataframe thead th {\n",
       "        text-align: right;\n",
       "    }\n",
       "</style>\n",
       "<table border=\"1\" class=\"dataframe\">\n",
       "  <thead>\n",
       "    <tr style=\"text-align: right;\">\n",
       "      <th></th>\n",
       "      <th>AirportCode</th>\n",
       "      <th>FullName</th>\n",
       "      <th>OriginCountry</th>\n",
       "      <th>OriginCity</th>\n",
       "    </tr>\n",
       "    <tr>\n",
       "      <th>AirportId</th>\n",
       "      <th></th>\n",
       "      <th></th>\n",
       "      <th></th>\n",
       "      <th></th>\n",
       "    </tr>\n",
       "  </thead>\n",
       "  <tbody>\n",
       "    <tr>\n",
       "      <th>1</th>\n",
       "      <td>PDL</td>\n",
       "      <td>Ponta Delgada Joao Paulo II</td>\n",
       "      <td>Portugal</td>\n",
       "      <td>Ponta Delgada</td>\n",
       "    </tr>\n",
       "    <tr>\n",
       "      <th>2</th>\n",
       "      <td>FAO</td>\n",
       "      <td>Faro Airport</td>\n",
       "      <td>Portugal</td>\n",
       "      <td>Faro</td>\n",
       "    </tr>\n",
       "    <tr>\n",
       "      <th>3</th>\n",
       "      <td>LIS</td>\n",
       "      <td>Portela</td>\n",
       "      <td>Portugal</td>\n",
       "      <td>Lisbon</td>\n",
       "    </tr>\n",
       "    <tr>\n",
       "      <th>4</th>\n",
       "      <td>OPO</td>\n",
       "      <td>Franciso De Sa Carneiro</td>\n",
       "      <td>Portugal</td>\n",
       "      <td>Porto</td>\n",
       "    </tr>\n",
       "    <tr>\n",
       "      <th>5</th>\n",
       "      <td>SJZ</td>\n",
       "      <td>Sao Jorge Airport</td>\n",
       "      <td>Portugal</td>\n",
       "      <td>NaN</td>\n",
       "    </tr>\n",
       "    <tr>\n",
       "      <th>...</th>\n",
       "      <td>...</td>\n",
       "      <td>...</td>\n",
       "      <td>...</td>\n",
       "      <td>...</td>\n",
       "    </tr>\n",
       "    <tr>\n",
       "      <th>64</th>\n",
       "      <td>NCL</td>\n",
       "      <td>Newcastle International Airport</td>\n",
       "      <td>United Kingdom</td>\n",
       "      <td>Newcastle</td>\n",
       "    </tr>\n",
       "    <tr>\n",
       "      <th>65</th>\n",
       "      <td>LPL</td>\n",
       "      <td>Liverpool John Lennon Airport</td>\n",
       "      <td>United Kingdom</td>\n",
       "      <td>Liverpool</td>\n",
       "    </tr>\n",
       "    <tr>\n",
       "      <th>66</th>\n",
       "      <td>EDI</td>\n",
       "      <td>Edinburgh Airport</td>\n",
       "      <td>United Kingdom</td>\n",
       "      <td>Edinburgh</td>\n",
       "    </tr>\n",
       "    <tr>\n",
       "      <th>67</th>\n",
       "      <td>GLA</td>\n",
       "      <td>Glasgow Prestwick Airport</td>\n",
       "      <td>United Kingdom</td>\n",
       "      <td>Glasgow</td>\n",
       "    </tr>\n",
       "    <tr>\n",
       "      <th>68</th>\n",
       "      <td>RKV</td>\n",
       "      <td>Keflavíkurflugvöllur</td>\n",
       "      <td>Iceland</td>\n",
       "      <td>Rejkjavik</td>\n",
       "    </tr>\n",
       "  </tbody>\n",
       "</table>\n",
       "<p>68 rows × 4 columns</p>\n",
       "</div>"
      ],
      "text/plain": [
       "          AirportCode                         FullName   OriginCountry  \\\n",
       "AirportId                                                                \n",
       "1                 PDL      Ponta Delgada Joao Paulo II        Portugal   \n",
       "2                 FAO                     Faro Airport        Portugal   \n",
       "3                 LIS                          Portela        Portugal   \n",
       "4                 OPO          Franciso De Sa Carneiro        Portugal   \n",
       "5                 SJZ                Sao Jorge Airport        Portugal   \n",
       "...               ...                              ...             ...   \n",
       "64                NCL  Newcastle International Airport  United Kingdom   \n",
       "65                LPL    Liverpool John Lennon Airport  United Kingdom   \n",
       "66                EDI                Edinburgh Airport  United Kingdom   \n",
       "67                GLA        Glasgow Prestwick Airport  United Kingdom   \n",
       "68                RKV             Keflavíkurflugvöllur         Iceland   \n",
       "\n",
       "              OriginCity  \n",
       "AirportId                 \n",
       "1          Ponta Delgada  \n",
       "2                   Faro  \n",
       "3                 Lisbon  \n",
       "4                  Porto  \n",
       "5                    NaN  \n",
       "...                  ...  \n",
       "64             Newcastle  \n",
       "65             Liverpool  \n",
       "66             Edinburgh  \n",
       "67               Glasgow  \n",
       "68             Rejkjavik  \n",
       "\n",
       "[68 rows x 4 columns]"
      ]
     },
     "execution_count": 64,
     "metadata": {},
     "output_type": "execute_result"
    }
   ],
   "source": [
    "airports_df"
   ]
  },
  {
   "cell_type": "code",
   "execution_count": 65,
   "metadata": {},
   "outputs": [],
   "source": [
    "INSERT_TEMPLATE = \"INSERT INTO {table_name} {columns_tuple}\\n\\tVALUES {values_tuple}\""
   ]
  },
  {
   "cell_type": "code",
   "execution_count": 66,
   "metadata": {},
   "outputs": [
    {
     "name": "stdout",
     "output_type": "stream",
     "text": [
      "INSERT INTO Airports (AirportCode, FullName, OriginCountry, OriginCity)\n",
      "\tVALUES (PDL, Ponta Delgada Joao Paulo II, Portugal, Ponta Delgada)\n"
     ]
    }
   ],
   "source": [
    "print(INSERT_TEMPLATE.format(table_name=\"Airports\", columns_tuple=tuple(airports_df.columns), values_tuple=tuple(airports_df.iloc[0].tolist())).replace(\"\\'\", \"\"))"
   ]
  },
  {
   "cell_type": "code",
   "execution_count": 67,
   "metadata": {},
   "outputs": [
    {
     "data": {
      "text/html": [
       "<div>\n",
       "<style scoped>\n",
       "    .dataframe tbody tr th:only-of-type {\n",
       "        vertical-align: middle;\n",
       "    }\n",
       "\n",
       "    .dataframe tbody tr th {\n",
       "        vertical-align: top;\n",
       "    }\n",
       "\n",
       "    .dataframe thead th {\n",
       "        text-align: right;\n",
       "    }\n",
       "</style>\n",
       "<table border=\"1\" class=\"dataframe\">\n",
       "  <thead>\n",
       "    <tr style=\"text-align: right;\">\n",
       "      <th></th>\n",
       "      <th>Name</th>\n",
       "      <th>AirlineCode</th>\n",
       "    </tr>\n",
       "    <tr>\n",
       "      <th>AirlineId</th>\n",
       "      <th></th>\n",
       "      <th></th>\n",
       "    </tr>\n",
       "  </thead>\n",
       "  <tbody>\n",
       "    <tr>\n",
       "      <th>1</th>\n",
       "      <td>Ryanair</td>\n",
       "      <td>RYR</td>\n",
       "    </tr>\n",
       "    <tr>\n",
       "      <th>2</th>\n",
       "      <td>Lufthansa Group</td>\n",
       "      <td>DLH</td>\n",
       "    </tr>\n",
       "    <tr>\n",
       "      <th>3</th>\n",
       "      <td>International Airlines Group</td>\n",
       "      <td>AAN</td>\n",
       "    </tr>\n",
       "    <tr>\n",
       "      <th>4</th>\n",
       "      <td>Air France-KLM</td>\n",
       "      <td>SEU</td>\n",
       "    </tr>\n",
       "    <tr>\n",
       "      <th>5</th>\n",
       "      <td>Easyjet</td>\n",
       "      <td>EZY</td>\n",
       "    </tr>\n",
       "    <tr>\n",
       "      <th>6</th>\n",
       "      <td>Wizz Air</td>\n",
       "      <td>WZZ</td>\n",
       "    </tr>\n",
       "    <tr>\n",
       "      <th>7</th>\n",
       "      <td>American Airlines</td>\n",
       "      <td>AAL</td>\n",
       "    </tr>\n",
       "    <tr>\n",
       "      <th>8</th>\n",
       "      <td>Delta Air Lines</td>\n",
       "      <td>DAL</td>\n",
       "    </tr>\n",
       "    <tr>\n",
       "      <th>9</th>\n",
       "      <td>Southwest Airlines</td>\n",
       "      <td>SWA</td>\n",
       "    </tr>\n",
       "    <tr>\n",
       "      <th>10</th>\n",
       "      <td>Air Canada</td>\n",
       "      <td>ROU</td>\n",
       "    </tr>\n",
       "    <tr>\n",
       "      <th>11</th>\n",
       "      <td>LOT Polish Airlines</td>\n",
       "      <td>LOT</td>\n",
       "    </tr>\n",
       "  </tbody>\n",
       "</table>\n",
       "</div>"
      ],
      "text/plain": [
       "                                   Name AirlineCode\n",
       "AirlineId                                          \n",
       "1                               Ryanair         RYR\n",
       "2                       Lufthansa Group         DLH\n",
       "3          International Airlines Group         AAN\n",
       "4                        Air France-KLM         SEU\n",
       "5                               Easyjet         EZY\n",
       "6                              Wizz Air         WZZ\n",
       "7                     American Airlines         AAL\n",
       "8                       Delta Air Lines         DAL\n",
       "9                    Southwest Airlines         SWA\n",
       "10                           Air Canada         ROU\n",
       "11                  LOT Polish Airlines         LOT"
      ]
     },
     "execution_count": 67,
     "metadata": {},
     "output_type": "execute_result"
    }
   ],
   "source": [
    "airlines_df"
   ]
  },
  {
   "cell_type": "code",
   "execution_count": 68,
   "metadata": {},
   "outputs": [],
   "source": [
    "with open(r\"../scripts/sql/populate_db.sql\", \"w\", encoding=\"utf8\") as f:\n",
    "    for index in airlines_df.index.tolist():\n",
    "        #print(INSERT_TEMPLATE.format(table_name=\"Airline\", columns_tuple=tuple(airlines_df.columns), values_tuple=tuple(airlines_df.iloc[index - 1].tolist())).replace(\"\\'\", \"\"))\n",
    "        f.write(INSERT_TEMPLATE.format(table_name=\"Airline\", columns_tuple=tuple(airlines_df.columns), values_tuple=tuple(airlines_df.iloc[index -1].tolist())).replace(\"\\'\", \"\"))\n",
    "        f.write(\"\\n\")\n",
    "        \n",
    "    for index in airports_df.index.tolist():\n",
    "        f.write(INSERT_TEMPLATE.format(table_name=\"Airport\", columns_tuple=tuple(airports_df.columns), values_tuple=tuple(airports_df.iloc[index - 1].tolist())).replace(\"\\'\", \"\"))\n",
    "        f.write(\"\\n\")"
   ]
  },
  {
   "cell_type": "code",
   "execution_count": 69,
   "metadata": {},
   "outputs": [],
   "source": [
    "def get_airline_info(name):\n",
    "    airline = airlines_df.loc[airlines_df[\"Name\"] == name].to_dict(orient=\"index\")\n",
    "    index = list(airline.keys())[0]\n",
    "    \n",
    "    return index, airline[index][\"AirlineCode\"]\n",
    "\n",
    "def get_airport_info(city):\n",
    "    airport = airports_df.loc[airports_df[\"OriginCity\"] == city].to_dict(orient=\"index\")\n",
    "    index = list(airport.keys())[0]\n",
    "    \n",
    "    return index, airport[index][\"AirportCode\"]"
   ]
  },
  {
   "cell_type": "code",
   "execution_count": 95,
   "metadata": {},
   "outputs": [],
   "source": [
    "def get_flight_info(departure, arrival, start, duration, airline, route_index):\n",
    "    airline_id, airline_code = get_airline_info(airline)\n",
    "    departure_id, departure_code = get_airport_info(departure)\n",
    "    arrival_id, arrival_code = get_airport_info(arrival)\n",
    "    \n",
    "    return airline_id, route_index, airline_code + \"001\" + departure_code + arrival_code, duration, np.random.randint(50, 250), 0"
   ]
  },
  {
   "cell_type": "code",
   "execution_count": 96,
   "metadata": {},
   "outputs": [],
   "source": [
    "def clock_to_timedetla(time):\n",
    "    return timedelta(hours=int(time[0:2]), minutes=int(time[3:5]), seconds=int(time[6:8]))"
   ]
  },
  {
   "cell_type": "code",
   "execution_count": 97,
   "metadata": {},
   "outputs": [],
   "source": [
    "def get_route_info(departure, arrival, start, duration, airline):\n",
    "    airline_id, airline_code = get_airline_info(airline)\n",
    "    departure_id, departure_code = get_airport_info(departure)\n",
    "    arrival_id, arrival_code = get_airport_info(arrival)\n",
    "    \n",
    "    return departure_id, arrival_id, str(start), str(dt.strptime(start, \"%Y-%m-%d %H:%M:%S\") + clock_to_timedetla(duration))"
   ]
  },
  {
   "cell_type": "code",
   "execution_count": 99,
   "metadata": {},
   "outputs": [
    {
     "data": {
      "text/plain": [
       "(1, 1, 'RYR001CIAMAD', '02:20:00', 233, 0)"
      ]
     },
     "execution_count": 99,
     "metadata": {},
     "output_type": "execute_result"
    }
   ],
   "source": [
    "get_flight_info(\"Rome\", \"Madrid\", \"2020-12-01 10:00:00\", \"02:20:00\", \"Ryanair\", 1)"
   ]
  },
  {
   "cell_type": "code",
   "execution_count": 100,
   "metadata": {},
   "outputs": [],
   "source": [
    "date = dt.strptime(\"2020-12-01 10:00:00\", \"%Y-%m-%d %H:%M:%S\")"
   ]
  },
  {
   "cell_type": "code",
   "execution_count": 101,
   "metadata": {},
   "outputs": [
    {
     "data": {
      "text/plain": [
       "(18, 6, '2020-12-01 10:00:00', '2020-12-01 12:20:00')"
      ]
     },
     "execution_count": 101,
     "metadata": {},
     "output_type": "execute_result"
    }
   ],
   "source": [
    "get_route_info(\"Rome\", \"Madrid\", \"2020-12-01 10:00:00\", \"02:20:00\", \"Ryanair\")"
   ]
  },
  {
   "cell_type": "code",
   "execution_count": null,
   "metadata": {},
   "outputs": [],
   "source": []
  }
 ],
 "metadata": {
  "kernelspec": {
   "display_name": "Python 3",
   "language": "python",
   "name": "python3"
  },
  "language_info": {
   "codemirror_mode": {
    "name": "ipython",
    "version": 3
   },
   "file_extension": ".py",
   "mimetype": "text/x-python",
   "name": "python",
   "nbconvert_exporter": "python",
   "pygments_lexer": "ipython3",
   "version": "3.7.4"
  }
 },
 "nbformat": 4,
 "nbformat_minor": 4
}
