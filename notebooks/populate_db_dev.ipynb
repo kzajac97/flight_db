{
 "cells": [
  {
   "cell_type": "code",
   "execution_count": 1,
   "metadata": {},
   "outputs": [],
   "source": [
    "import sqlite3\n",
    "import numpy as np\n",
    "import pandas as pd\n",
    "from datetime import datetime as dt, timedelta"
   ]
  },
  {
   "cell_type": "code",
   "execution_count": 2,
   "metadata": {},
   "outputs": [],
   "source": [
    "airlines_df = pd.read_excel(\"../data/Airlines.xlsx\", index_col=\"AirlineId\")\n",
    "airports_df = pd.read_excel(\"../data/Airports.xlsx\", index_col=\"AirportId\")"
   ]
  },
  {
   "cell_type": "code",
   "execution_count": 3,
   "metadata": {},
   "outputs": [
    {
     "data": {
      "text/html": [
       "<div>\n",
       "<style scoped>\n",
       "    .dataframe tbody tr th:only-of-type {\n",
       "        vertical-align: middle;\n",
       "    }\n",
       "\n",
       "    .dataframe tbody tr th {\n",
       "        vertical-align: top;\n",
       "    }\n",
       "\n",
       "    .dataframe thead th {\n",
       "        text-align: right;\n",
       "    }\n",
       "</style>\n",
       "<table border=\"1\" class=\"dataframe\">\n",
       "  <thead>\n",
       "    <tr style=\"text-align: right;\">\n",
       "      <th></th>\n",
       "      <th>AirportCode</th>\n",
       "      <th>FullName</th>\n",
       "      <th>OriginCountry</th>\n",
       "      <th>OriginCity</th>\n",
       "    </tr>\n",
       "    <tr>\n",
       "      <th>AirportId</th>\n",
       "      <th></th>\n",
       "      <th></th>\n",
       "      <th></th>\n",
       "      <th></th>\n",
       "    </tr>\n",
       "  </thead>\n",
       "  <tbody>\n",
       "    <tr>\n",
       "      <th>1</th>\n",
       "      <td>PDL</td>\n",
       "      <td>Ponta Delgada Joao Paulo II</td>\n",
       "      <td>Portugal</td>\n",
       "      <td>Ponta Delgada</td>\n",
       "    </tr>\n",
       "    <tr>\n",
       "      <th>2</th>\n",
       "      <td>FAO</td>\n",
       "      <td>Faro Airport</td>\n",
       "      <td>Portugal</td>\n",
       "      <td>Faro</td>\n",
       "    </tr>\n",
       "    <tr>\n",
       "      <th>3</th>\n",
       "      <td>LIS</td>\n",
       "      <td>Portela</td>\n",
       "      <td>Portugal</td>\n",
       "      <td>Lisbon</td>\n",
       "    </tr>\n",
       "    <tr>\n",
       "      <th>4</th>\n",
       "      <td>OPO</td>\n",
       "      <td>Franciso De Sa Carneiro</td>\n",
       "      <td>Portugal</td>\n",
       "      <td>Porto</td>\n",
       "    </tr>\n",
       "    <tr>\n",
       "      <th>5</th>\n",
       "      <td>SJZ</td>\n",
       "      <td>Sao Jorge Airport</td>\n",
       "      <td>Portugal</td>\n",
       "      <td>Madeira</td>\n",
       "    </tr>\n",
       "    <tr>\n",
       "      <th>...</th>\n",
       "      <td>...</td>\n",
       "      <td>...</td>\n",
       "      <td>...</td>\n",
       "      <td>...</td>\n",
       "    </tr>\n",
       "    <tr>\n",
       "      <th>64</th>\n",
       "      <td>NCL</td>\n",
       "      <td>Newcastle International Airport</td>\n",
       "      <td>United Kingdom</td>\n",
       "      <td>Newcastle</td>\n",
       "    </tr>\n",
       "    <tr>\n",
       "      <th>65</th>\n",
       "      <td>LPL</td>\n",
       "      <td>Liverpool John Lennon Airport</td>\n",
       "      <td>United Kingdom</td>\n",
       "      <td>Liverpool</td>\n",
       "    </tr>\n",
       "    <tr>\n",
       "      <th>66</th>\n",
       "      <td>EDI</td>\n",
       "      <td>Edinburgh Airport</td>\n",
       "      <td>United Kingdom</td>\n",
       "      <td>Edinburgh</td>\n",
       "    </tr>\n",
       "    <tr>\n",
       "      <th>67</th>\n",
       "      <td>GLA</td>\n",
       "      <td>Glasgow Prestwick Airport</td>\n",
       "      <td>United Kingdom</td>\n",
       "      <td>Glasgow</td>\n",
       "    </tr>\n",
       "    <tr>\n",
       "      <th>68</th>\n",
       "      <td>RKV</td>\n",
       "      <td>Keflavíkurflugvöllur</td>\n",
       "      <td>Iceland</td>\n",
       "      <td>Rejkjavik</td>\n",
       "    </tr>\n",
       "  </tbody>\n",
       "</table>\n",
       "<p>68 rows × 4 columns</p>\n",
       "</div>"
      ],
      "text/plain": [
       "          AirportCode                         FullName   OriginCountry  \\\n",
       "AirportId                                                                \n",
       "1                 PDL      Ponta Delgada Joao Paulo II        Portugal   \n",
       "2                 FAO                     Faro Airport        Portugal   \n",
       "3                 LIS                          Portela        Portugal   \n",
       "4                 OPO          Franciso De Sa Carneiro        Portugal   \n",
       "5                 SJZ                Sao Jorge Airport        Portugal   \n",
       "...               ...                              ...             ...   \n",
       "64                NCL  Newcastle International Airport  United Kingdom   \n",
       "65                LPL    Liverpool John Lennon Airport  United Kingdom   \n",
       "66                EDI                Edinburgh Airport  United Kingdom   \n",
       "67                GLA        Glasgow Prestwick Airport  United Kingdom   \n",
       "68                RKV             Keflavíkurflugvöllur         Iceland   \n",
       "\n",
       "              OriginCity  \n",
       "AirportId                 \n",
       "1          Ponta Delgada  \n",
       "2                   Faro  \n",
       "3                 Lisbon  \n",
       "4                  Porto  \n",
       "5                Madeira  \n",
       "...                  ...  \n",
       "64             Newcastle  \n",
       "65             Liverpool  \n",
       "66             Edinburgh  \n",
       "67               Glasgow  \n",
       "68             Rejkjavik  \n",
       "\n",
       "[68 rows x 4 columns]"
      ]
     },
     "execution_count": 3,
     "metadata": {},
     "output_type": "execute_result"
    }
   ],
   "source": [
    "airports_df"
   ]
  },
  {
   "cell_type": "code",
   "execution_count": 4,
   "metadata": {},
   "outputs": [],
   "source": [
    "INSERT_TEMPLATE = \"INSERT INTO {table_name} {columns_tuple}\\n\\tVALUES {values_tuple}\""
   ]
  },
  {
   "cell_type": "code",
   "execution_count": 5,
   "metadata": {},
   "outputs": [
    {
     "name": "stdout",
     "output_type": "stream",
     "text": [
      "INSERT INTO Airports (AirportCode, FullName, OriginCountry, OriginCity)\n",
      "\tVALUES (PDL, Ponta Delgada Joao Paulo II, Portugal, Ponta Delgada)\n"
     ]
    }
   ],
   "source": [
    "print(INSERT_TEMPLATE.format(table_name=\"Airports\", columns_tuple=tuple(airports_df.columns), values_tuple=tuple(airports_df.iloc[0].tolist())).replace(\"\\'\", \"\"))"
   ]
  },
  {
   "cell_type": "code",
   "execution_count": 6,
   "metadata": {},
   "outputs": [
    {
     "data": {
      "text/html": [
       "<div>\n",
       "<style scoped>\n",
       "    .dataframe tbody tr th:only-of-type {\n",
       "        vertical-align: middle;\n",
       "    }\n",
       "\n",
       "    .dataframe tbody tr th {\n",
       "        vertical-align: top;\n",
       "    }\n",
       "\n",
       "    .dataframe thead th {\n",
       "        text-align: right;\n",
       "    }\n",
       "</style>\n",
       "<table border=\"1\" class=\"dataframe\">\n",
       "  <thead>\n",
       "    <tr style=\"text-align: right;\">\n",
       "      <th></th>\n",
       "      <th>Name</th>\n",
       "      <th>AirlineCode</th>\n",
       "    </tr>\n",
       "    <tr>\n",
       "      <th>AirlineId</th>\n",
       "      <th></th>\n",
       "      <th></th>\n",
       "    </tr>\n",
       "  </thead>\n",
       "  <tbody>\n",
       "    <tr>\n",
       "      <th>1</th>\n",
       "      <td>Ryanair</td>\n",
       "      <td>RYR</td>\n",
       "    </tr>\n",
       "    <tr>\n",
       "      <th>2</th>\n",
       "      <td>Lufthansa Group</td>\n",
       "      <td>DLH</td>\n",
       "    </tr>\n",
       "    <tr>\n",
       "      <th>3</th>\n",
       "      <td>International Airlines Group</td>\n",
       "      <td>AAN</td>\n",
       "    </tr>\n",
       "    <tr>\n",
       "      <th>4</th>\n",
       "      <td>Air France-KLM</td>\n",
       "      <td>SEU</td>\n",
       "    </tr>\n",
       "    <tr>\n",
       "      <th>5</th>\n",
       "      <td>Easyjet</td>\n",
       "      <td>EZY</td>\n",
       "    </tr>\n",
       "    <tr>\n",
       "      <th>6</th>\n",
       "      <td>Wizz Air</td>\n",
       "      <td>WZZ</td>\n",
       "    </tr>\n",
       "    <tr>\n",
       "      <th>7</th>\n",
       "      <td>American Airlines</td>\n",
       "      <td>AAL</td>\n",
       "    </tr>\n",
       "    <tr>\n",
       "      <th>8</th>\n",
       "      <td>Delta Air Lines</td>\n",
       "      <td>DAL</td>\n",
       "    </tr>\n",
       "    <tr>\n",
       "      <th>9</th>\n",
       "      <td>Southwest Airlines</td>\n",
       "      <td>SWA</td>\n",
       "    </tr>\n",
       "    <tr>\n",
       "      <th>10</th>\n",
       "      <td>Air Canada</td>\n",
       "      <td>ROU</td>\n",
       "    </tr>\n",
       "    <tr>\n",
       "      <th>11</th>\n",
       "      <td>LOT Polish Airlines</td>\n",
       "      <td>LOT</td>\n",
       "    </tr>\n",
       "  </tbody>\n",
       "</table>\n",
       "</div>"
      ],
      "text/plain": [
       "                                   Name AirlineCode\n",
       "AirlineId                                          \n",
       "1                               Ryanair         RYR\n",
       "2                       Lufthansa Group         DLH\n",
       "3          International Airlines Group         AAN\n",
       "4                        Air France-KLM         SEU\n",
       "5                               Easyjet         EZY\n",
       "6                              Wizz Air         WZZ\n",
       "7                     American Airlines         AAL\n",
       "8                       Delta Air Lines         DAL\n",
       "9                    Southwest Airlines         SWA\n",
       "10                           Air Canada         ROU\n",
       "11                  LOT Polish Airlines         LOT"
      ]
     },
     "execution_count": 6,
     "metadata": {},
     "output_type": "execute_result"
    }
   ],
   "source": [
    "airlines_df"
   ]
  },
  {
   "cell_type": "code",
   "execution_count": 7,
   "metadata": {},
   "outputs": [],
   "source": [
    "with open(r\"../scripts/sql/populate_db.sql\", \"w\", encoding=\"utf8\") as f:\n",
    "    for index in airlines_df.index.tolist():\n",
    "        #print(INSERT_TEMPLATE.format(table_name=\"Airline\", columns_tuple=tuple(airlines_df.columns), values_tuple=tuple(airlines_df.iloc[index - 1].tolist())).replace(\"\\'\", \"\"))\n",
    "        f.write(INSERT_TEMPLATE.format(table_name=\"Airline\", columns_tuple=tuple(airlines_df.columns), values_tuple=tuple(airlines_df.iloc[index -1].tolist())).replace(\"\\'\", \"\"))\n",
    "        f.write(\"\\n\")\n",
    "        \n",
    "    for index in airports_df.index.tolist():\n",
    "        f.write(INSERT_TEMPLATE.format(table_name=\"Airport\", columns_tuple=tuple(airports_df.columns), values_tuple=tuple(airports_df.iloc[index - 1].tolist())).replace(\"\\'\", \"\"))\n",
    "        f.write(\"\\n\")"
   ]
  },
  {
   "cell_type": "code",
   "execution_count": 8,
   "metadata": {},
   "outputs": [],
   "source": [
    "def get_airline_info(name):\n",
    "    airline = airlines_df.loc[airlines_df[\"Name\"] == name].to_dict(orient=\"index\")\n",
    "    index = list(airline.keys())[0]\n",
    "    \n",
    "    return index, airline[index][\"AirlineCode\"]\n",
    "\n",
    "def get_airport_info(city):\n",
    "    airport = airports_df.loc[airports_df[\"OriginCity\"] == city].to_dict(orient=\"index\")\n",
    "    index = list(airport.keys())[0]\n",
    "    \n",
    "    return index, airport[index][\"AirportCode\"]"
   ]
  },
  {
   "cell_type": "code",
   "execution_count": 9,
   "metadata": {},
   "outputs": [],
   "source": [
    "def get_flight_info(departure, arrival, start, duration, airline, route_index):\n",
    "    airline_id, airline_code = get_airline_info(airline)\n",
    "    departure_id, departure_code = get_airport_info(departure)\n",
    "    arrival_id, arrival_code = get_airport_info(arrival)\n",
    "    \n",
    "    return airline_id, route_index, airline_code + \"001\" + departure_code + arrival_code, duration, np.random.randint(50, 250), 0"
   ]
  },
  {
   "cell_type": "code",
   "execution_count": 10,
   "metadata": {},
   "outputs": [],
   "source": [
    "def clock_to_timedetla(time):\n",
    "    return timedelta(hours=int(time[0:2]), minutes=int(time[3:5]), seconds=int(time[6:8]))"
   ]
  },
  {
   "cell_type": "code",
   "execution_count": 11,
   "metadata": {},
   "outputs": [],
   "source": [
    "def get_route_info(departure, arrival, start, duration, airline, placeholder):\n",
    "    airline_id, airline_code = get_airline_info(airline)\n",
    "    departure_id, departure_code = get_airport_info(departure)\n",
    "    arrival_id, arrival_code = get_airport_info(arrival)\n",
    "    \n",
    "    return departure_id, arrival_id, str(start), str(dt.strptime(start, \"%Y-%m-%d %H:%M:%S\") + clock_to_timedetla(duration))"
   ]
  },
  {
   "cell_type": "code",
   "execution_count": 12,
   "metadata": {},
   "outputs": [
    {
     "data": {
      "text/plain": [
       "(1, 1, 'RYR001CIAMAD', '02:20:00', 101, 0)"
      ]
     },
     "execution_count": 12,
     "metadata": {},
     "output_type": "execute_result"
    }
   ],
   "source": [
    "get_flight_info(\"Rome\", \"Madrid\", \"2020-12-01 10:00:00\", \"02:20:00\", \"Ryanair\", 1)"
   ]
  },
  {
   "cell_type": "code",
   "execution_count": 13,
   "metadata": {},
   "outputs": [],
   "source": [
    "date = dt.strptime(\"2020-12-01 10:00:00\", \"%Y-%m-%d %H:%M:%S\")"
   ]
  },
  {
   "cell_type": "code",
   "execution_count": 14,
   "metadata": {},
   "outputs": [
    {
     "data": {
      "text/plain": [
       "(18, 6, '2020-12-01 10:00:00', '2020-12-01 12:20:00')"
      ]
     },
     "execution_count": 14,
     "metadata": {},
     "output_type": "execute_result"
    }
   ],
   "source": [
    "get_route_info(\"Rome\", \"Madrid\", \"2020-12-01 10:00:00\", \"02:20:00\", \"Ryanair\", 1)"
   ]
  },
  {
   "cell_type": "code",
   "execution_count": 16,
   "metadata": {},
   "outputs": [
    {
     "data": {
      "text/plain": [
       "'Wroclaw'"
      ]
     },
     "execution_count": 16,
     "metadata": {},
     "output_type": "execute_result"
    }
   ],
   "source": [
    "airports_df[\"OriginCity\"].iloc[np.random.randint(len(airports_df[\"OriginCity\"].index))]\n",
    "airports_df[\"OriginCity\"].iloc[np.random.randint(len(airports_df[\"OriginCity\"].index))]"
   ]
  },
  {
   "cell_type": "code",
   "execution_count": 17,
   "metadata": {},
   "outputs": [],
   "source": [
    "start_date = \"2020-01-01 8:00:00\""
   ]
  },
  {
   "cell_type": "code",
   "execution_count": 18,
   "metadata": {},
   "outputs": [
    {
     "data": {
      "text/plain": [
       "'2020-01-02 23:50:00'"
      ]
     },
     "execution_count": 18,
     "metadata": {},
     "output_type": "execute_result"
    }
   ],
   "source": [
    "str(dt.strptime(start_date, \"%Y-%m-%d %H:%M:%S\") + clock_to_timedetla(f\"{np.random.randint(4)}{np.random.randint(10)}:{np.random.randint(7)}0:00\"))"
   ]
  },
  {
   "cell_type": "code",
   "execution_count": 19,
   "metadata": {},
   "outputs": [],
   "source": [
    "def random_date_offset():\n",
    "    # Date offset in range 00:00:00 to 40:00:00\n",
    "    # seconds are alwyas 00 and minutes have precision up to 10 min\n",
    "    return f\"0{np.random.randint(5)}:{np.random.randint(6)}0:00\"\n",
    "\n",
    "def random_flight_time():\n",
    "    # Random flight time, with max value of 9H and min 1H\n",
    "    return f\"0{np.random.randint(1, 10)}:{np.random.randint(6)}0:00\""
   ]
  },
  {
   "cell_type": "code",
   "execution_count": 20,
   "metadata": {},
   "outputs": [],
   "source": [
    "routes = []\n",
    "flights = []\n",
    "\n",
    "start_date = \"2020-01-01 8:00:00\"\n",
    "date = dt.strptime(start_date, \"%Y-%m-%d %H:%M:%S\")\n",
    "\n",
    "for _ in range(10_000):\n",
    "    departure_airport = airports_df[\"OriginCity\"].iloc[np.random.randint(len(airports_df[\"OriginCity\"].index))]\n",
    "    arrival_airport = airports_df[\"OriginCity\"].iloc[np.random.randint(len(airports_df[\"OriginCity\"].index))]\n",
    "    date += clock_to_timedetla(random_date_offset())\n",
    "    flight_time = random_flight_time()\n",
    "    airline = airlines_df[\"Name\"].iloc[np.random.randint(airlines_df.index.size)]\n",
    "    \n",
    "    flights.append(get_flight_info(departure_airport, arrival_airport, str(date), flight_time, airline, 1))\n",
    "    routes.append(get_route_info(departure_airport, arrival_airport, str(date), flight_time, airline, 1))"
   ]
  },
  {
   "cell_type": "code",
   "execution_count": 21,
   "metadata": {},
   "outputs": [
    {
     "data": {
      "text/html": [
       "<div>\n",
       "<style scoped>\n",
       "    .dataframe tbody tr th:only-of-type {\n",
       "        vertical-align: middle;\n",
       "    }\n",
       "\n",
       "    .dataframe tbody tr th {\n",
       "        vertical-align: top;\n",
       "    }\n",
       "\n",
       "    .dataframe thead th {\n",
       "        text-align: right;\n",
       "    }\n",
       "</style>\n",
       "<table border=\"1\" class=\"dataframe\">\n",
       "  <thead>\n",
       "    <tr style=\"text-align: right;\">\n",
       "      <th></th>\n",
       "      <th>AirlineId</th>\n",
       "      <th>RouteId</th>\n",
       "      <th>FlightCode</th>\n",
       "      <th>Duration</th>\n",
       "      <th>Passengers</th>\n",
       "      <th>Intercontinental</th>\n",
       "    </tr>\n",
       "  </thead>\n",
       "  <tbody>\n",
       "    <tr>\n",
       "      <th>0</th>\n",
       "      <td>6</td>\n",
       "      <td>1</td>\n",
       "      <td>WZZ001DMEAYT</td>\n",
       "      <td>06:10:00</td>\n",
       "      <td>91</td>\n",
       "      <td>0</td>\n",
       "    </tr>\n",
       "    <tr>\n",
       "      <th>1</th>\n",
       "      <td>11</td>\n",
       "      <td>1</td>\n",
       "      <td>LOT001PSANUE</td>\n",
       "      <td>07:30:00</td>\n",
       "      <td>228</td>\n",
       "      <td>0</td>\n",
       "    </tr>\n",
       "    <tr>\n",
       "      <th>2</th>\n",
       "      <td>7</td>\n",
       "      <td>1</td>\n",
       "      <td>AAL001DUBRIX</td>\n",
       "      <td>02:40:00</td>\n",
       "      <td>64</td>\n",
       "      <td>0</td>\n",
       "    </tr>\n",
       "    <tr>\n",
       "      <th>3</th>\n",
       "      <td>1</td>\n",
       "      <td>1</td>\n",
       "      <td>RYR001STNSTN</td>\n",
       "      <td>02:30:00</td>\n",
       "      <td>225</td>\n",
       "      <td>0</td>\n",
       "    </tr>\n",
       "    <tr>\n",
       "      <th>4</th>\n",
       "      <td>1</td>\n",
       "      <td>1</td>\n",
       "      <td>RYR001LPLMUC</td>\n",
       "      <td>02:50:00</td>\n",
       "      <td>80</td>\n",
       "      <td>0</td>\n",
       "    </tr>\n",
       "  </tbody>\n",
       "</table>\n",
       "</div>"
      ],
      "text/plain": [
       "   AirlineId  RouteId    FlightCode  Duration  Passengers  Intercontinental\n",
       "0          6        1  WZZ001DMEAYT  06:10:00          91                 0\n",
       "1         11        1  LOT001PSANUE  07:30:00         228                 0\n",
       "2          7        1  AAL001DUBRIX  02:40:00          64                 0\n",
       "3          1        1  RYR001STNSTN  02:30:00         225                 0\n",
       "4          1        1  RYR001LPLMUC  02:50:00          80                 0"
      ]
     },
     "execution_count": 21,
     "metadata": {},
     "output_type": "execute_result"
    }
   ],
   "source": [
    "pd.DataFrame.from_records(flights, columns=[\"AirlineId\", \"RouteId\", \"FlightCode\", \"Duration\", \"Passengers\", \"Intercontinental\"])"
   ]
  },
  {
   "cell_type": "code",
   "execution_count": 22,
   "metadata": {},
   "outputs": [
    {
     "data": {
      "text/html": [
       "<div>\n",
       "<style scoped>\n",
       "    .dataframe tbody tr th:only-of-type {\n",
       "        vertical-align: middle;\n",
       "    }\n",
       "\n",
       "    .dataframe tbody tr th {\n",
       "        vertical-align: top;\n",
       "    }\n",
       "\n",
       "    .dataframe thead th {\n",
       "        text-align: right;\n",
       "    }\n",
       "</style>\n",
       "<table border=\"1\" class=\"dataframe\">\n",
       "  <thead>\n",
       "    <tr style=\"text-align: right;\">\n",
       "      <th></th>\n",
       "      <th>DepartureAirportId</th>\n",
       "      <th>ArrivalAirportId</th>\n",
       "      <th>DepartureDateTime</th>\n",
       "      <th>ArrivalDateTime</th>\n",
       "    </tr>\n",
       "  </thead>\n",
       "  <tbody>\n",
       "    <tr>\n",
       "      <th>0</th>\n",
       "      <td>55</td>\n",
       "      <td>33</td>\n",
       "      <td>2020-01-01 11:50:00</td>\n",
       "      <td>2020-01-01 18:00:00</td>\n",
       "    </tr>\n",
       "    <tr>\n",
       "      <th>1</th>\n",
       "      <td>19</td>\n",
       "      <td>44</td>\n",
       "      <td>2020-01-01 15:50:00</td>\n",
       "      <td>2020-01-01 23:20:00</td>\n",
       "    </tr>\n",
       "    <tr>\n",
       "      <th>2</th>\n",
       "      <td>58</td>\n",
       "      <td>53</td>\n",
       "      <td>2020-01-01 16:00:00</td>\n",
       "      <td>2020-01-01 18:40:00</td>\n",
       "    </tr>\n",
       "    <tr>\n",
       "      <th>3</th>\n",
       "      <td>59</td>\n",
       "      <td>59</td>\n",
       "      <td>2020-01-01 17:20:00</td>\n",
       "      <td>2020-01-01 19:50:00</td>\n",
       "    </tr>\n",
       "    <tr>\n",
       "      <th>4</th>\n",
       "      <td>65</td>\n",
       "      <td>40</td>\n",
       "      <td>2020-01-01 20:00:00</td>\n",
       "      <td>2020-01-01 22:50:00</td>\n",
       "    </tr>\n",
       "  </tbody>\n",
       "</table>\n",
       "</div>"
      ],
      "text/plain": [
       "   DepartureAirportId  ArrivalAirportId    DepartureDateTime  \\\n",
       "0                  55                33  2020-01-01 11:50:00   \n",
       "1                  19                44  2020-01-01 15:50:00   \n",
       "2                  58                53  2020-01-01 16:00:00   \n",
       "3                  59                59  2020-01-01 17:20:00   \n",
       "4                  65                40  2020-01-01 20:00:00   \n",
       "\n",
       "       ArrivalDateTime  \n",
       "0  2020-01-01 18:00:00  \n",
       "1  2020-01-01 23:20:00  \n",
       "2  2020-01-01 18:40:00  \n",
       "3  2020-01-01 19:50:00  \n",
       "4  2020-01-01 22:50:00  "
      ]
     },
     "execution_count": 22,
     "metadata": {},
     "output_type": "execute_result"
    }
   ],
   "source": [
    "pd.DataFrame.from_records(routes, columns=[\"DepartureAirportId\", \"ArrivalAirportId\", \"DepartureDateTime\", \"ArrivalDateTime\"])"
   ]
  },
  {
   "cell_type": "code",
   "execution_count": 25,
   "metadata": {},
   "outputs": [
    {
     "data": {
      "text/plain": [
       "datetime.timedelta(seconds=43200)"
      ]
     },
     "execution_count": 25,
     "metadata": {},
     "output_type": "execute_result"
    }
   ],
   "source": [
    "clock_to_timedetla(\"12:00:00\")"
   ]
  },
  {
   "cell_type": "code",
   "execution_count": null,
   "metadata": {},
   "outputs": [],
   "source": []
  }
 ],
 "metadata": {
  "kernelspec": {
   "display_name": "Python 3",
   "language": "python",
   "name": "python3"
  },
  "language_info": {
   "codemirror_mode": {
    "name": "ipython",
    "version": 3
   },
   "file_extension": ".py",
   "mimetype": "text/x-python",
   "name": "python",
   "nbconvert_exporter": "python",
   "pygments_lexer": "ipython3",
   "version": "3.7.4"
  }
 },
 "nbformat": 4,
 "nbformat_minor": 4
}
